{
 "cells": [
  {
   "cell_type": "code",
   "execution_count": 1,
   "metadata": {},
   "outputs": [],
   "source": [
    "import numpy as np\n",
    "import os\n",
    "import matplotlib.pyplot as plt\n",
    "\n",
    "from rruffIR import *"
   ]
  },
  {
   "cell_type": "code",
   "execution_count": 13,
   "metadata": {},
   "outputs": [],
   "source": [
    "def main():\n",
    "    for file in os.listdir(\"rruffProcessed/data\"):\n",
    "        wlen, val = rruffIR(f\"rruffProcessed/data/{file}\")#\n",
    "        plt.plot(wlen, val)\n",
    "        plt.title(f\"{file[:-4]}\")\n",
    "        plt.savefig(f\"rruffProcessed/images/{file[:-4]}.png\")\n",
    "        plt.clf()\n",
    "        #plt.show()\n",
    "    return"
   ]
  },
  {
   "cell_type": "code",
   "execution_count": 11,
   "metadata": {},
   "outputs": [],
   "source": [
    "def main():\n",
    "    for file in os.listdir(\"rruffRAW/data\"):\n",
    "        wlen, val = rruffIR(f\"rruffRAW/data/{file}\")#\n",
    "        plt.plot(wlen, val)\n",
    "        plt.title(f\"{file[:-4]}\")\n",
    "        plt.savefig(f\"rruffRAW/images/{file[:-4]}.png\")\n",
    "        plt.clf()\n",
    "        #plt.show()\n",
    "    return"
   ]
  },
  {
   "cell_type": "code",
   "execution_count": 14,
   "metadata": {},
   "outputs": [
    {
     "data": {
      "text/plain": [
       "<Figure size 640x480 with 0 Axes>"
      ]
     },
     "metadata": {},
     "output_type": "display_data"
    }
   ],
   "source": [
    "main()"
   ]
  },
  {
   "cell_type": "code",
   "execution_count": null,
   "metadata": {},
   "outputs": [],
   "source": []
  }
 ],
 "metadata": {
  "kernelspec": {
   "display_name": "Python 3",
   "language": "python",
   "name": "python3"
  },
  "language_info": {
   "codemirror_mode": {
    "name": "ipython",
    "version": 3
   },
   "file_extension": ".py",
   "mimetype": "text/x-python",
   "name": "python",
   "nbconvert_exporter": "python",
   "pygments_lexer": "ipython3",
   "version": "3.10.13"
  }
 },
 "nbformat": 4,
 "nbformat_minor": 2
}
