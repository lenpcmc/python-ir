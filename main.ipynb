{
 "cells": [
  {
   "cell_type": "code",
   "execution_count": 1,
   "metadata": {},
   "outputs": [],
   "source": [
    "import numpy as np\n",
    "import os\n",
    "import matplotlib.pyplot as plt\n",
    "\n",
    "from rrufIR import *"
   ]
  },
  {
   "cell_type": "code",
   "execution_count": 13,
   "metadata": {},
   "outputs": [],
   "source": [
    "def main():\n",
    "    for file in os.listdir(\"rrufProcessed/data\"):\n",
    "        wlen, val = rrufIR(f\"rrufProcessed/data/{file}\")#\n",
    "        plt.plot(wlen, val)\n",
    "        plt.title(f\"{file[:-4]}\")\n",
    "        plt.savefig(f\"rrufProcessed/images/{file[:-4]}.png\")\n",
    "        plt.clf()\n",
    "        #plt.show()\n",
    "    return"
   ]
  },
  {
   "cell_type": "code",
   "execution_count": 11,
   "metadata": {},
   "outputs": [],
   "source": [
    "def main():\n",
    "    for file in os.listdir(\"rrufRAW/data\"):\n",
    "        wlen, val = rrufIR(f\"rrufRAW/data/{file}\")#\n",
    "        plt.plot(wlen, val)\n",
    "        plt.title(f\"{file[:-4]}\")\n",
    "        plt.savefig(f\"rrufRAW/images/{file[:-4]}.png\")\n",
    "        plt.clf()\n",
    "        #plt.show()\n",
    "    return"
   ]
  },
  {
   "cell_type": "code",
   "execution_count": 14,
   "metadata": {},
   "outputs": [
    {
     "data": {
      "text/plain": [
       "<Figure size 640x480 with 0 Axes>"
      ]
     },
     "metadata": {},
     "output_type": "display_data"
    }
   ],
   "source": [
    "main()"
   ]
  },
  {
   "cell_type": "code",
   "execution_count": null,
   "metadata": {},
   "outputs": [],
   "source": []
  }
 ],
 "metadata": {
  "kernelspec": {
   "display_name": "Python 3",
   "language": "python",
   "name": "python3"
  },
  "language_info": {
   "codemirror_mode": {
    "name": "ipython",
    "version": 3
   },
   "file_extension": ".py",
   "mimetype": "text/x-python",
   "name": "python",
   "nbconvert_exporter": "python",
   "pygments_lexer": "ipython3",
   "version": "3.10.13"
  }
 },
 "nbformat": 4,
 "nbformat_minor": 2
}
